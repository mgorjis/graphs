{
 "cells": [
  {
   "cell_type": "code",
   "execution_count": 1,
   "metadata": {},
   "outputs": [],
   "source": [
    "from py2neo import Graph, Node, Relationship, Path, LIKE\n",
    "from py2neo.matching import *\n",
    "import pandas as pd"
   ]
  },
  {
   "cell_type": "code",
   "execution_count": 2,
   "metadata": {},
   "outputs": [
    {
     "name": "stdout",
     "output_type": "stream",
     "text": [
      "Requirement already satisfied: neo4jupyter in c:\\users\\mohammad\\python37\\lib\\site-packages (0.2.0)\n",
      "Requirement already satisfied: ipython-cypher>=0.2.4 in c:\\users\\mohammad\\python37\\lib\\site-packages (from neo4jupyter) (0.2.6)\n",
      "Requirement already satisfied: py2neo in c:\\users\\mohammad\\python37\\lib\\site-packages (from neo4jupyter) (2021.0.1)\n",
      "Requirement already satisfied: IPython>=4.0.0 in c:\\users\\mohammad\\python37\\lib\\site-packages (from neo4jupyter) (7.21.0)\n",
      "Requirement already satisfied: colorama in c:\\users\\mohammad\\python37\\lib\\site-packages (from IPython>=4.0.0->neo4jupyter) (0.4.3)\n",
      "Requirement already satisfied: pickleshare in c:\\users\\mohammad\\python37\\lib\\site-packages (from IPython>=4.0.0->neo4jupyter) (0.7.5)\n",
      "Requirement already satisfied: backcall in c:\\users\\mohammad\\python37\\lib\\site-packages (from IPython>=4.0.0->neo4jupyter) (0.2.0)\n",
      "Requirement already satisfied: setuptools>=18.5 in c:\\users\\mohammad\\python37\\lib\\site-packages (from IPython>=4.0.0->neo4jupyter) (47.1.0)\n",
      "Requirement already satisfied: pygments in c:\\users\\mohammad\\python37\\lib\\site-packages (from IPython>=4.0.0->neo4jupyter) (2.6.1)\n",
      "Requirement already satisfied: jedi>=0.16 in c:\\users\\mohammad\\python37\\lib\\site-packages (from IPython>=4.0.0->neo4jupyter) (0.17.2)\n",
      "Requirement already satisfied: traitlets>=4.2 in c:\\users\\mohammad\\python37\\lib\\site-packages (from IPython>=4.0.0->neo4jupyter) (5.0.4)\n",
      "Requirement already satisfied: decorator in c:\\users\\mohammad\\python37\\lib\\site-packages (from IPython>=4.0.0->neo4jupyter) (4.4.2)\n",
      "Requirement already satisfied: prompt-toolkit!=3.0.0,!=3.0.1,<3.1.0,>=2.0.0 in c:\\users\\mohammad\\python37\\lib\\site-packages (from IPython>=4.0.0->neo4jupyter) (2.0.10)\n",
      "Requirement already satisfied: prettytable in c:\\users\\mohammad\\python37\\lib\\site-packages (from ipython-cypher>=0.2.4->neo4jupyter) (2.1.0)\n",
      "Requirement already satisfied: neo4jrestclient>=2.1.0 in c:\\users\\mohammad\\python37\\lib\\site-packages (from ipython-cypher>=0.2.4->neo4jupyter) (2.1.1)\n",
      "Requirement already satisfied: parso<0.8.0,>=0.7.0 in c:\\users\\mohammad\\python37\\lib\\site-packages (from jedi>=0.16->IPython>=4.0.0->neo4jupyter) (0.7.1)\n",
      "Requirement already satisfied: requests>=2.1.0 in c:\\users\\mohammad\\python37\\lib\\site-packages (from neo4jrestclient>=2.1.0->ipython-cypher>=0.2.4->neo4jupyter) (2.24.0)\n",
      "Requirement already satisfied: wcwidth in c:\\users\\mohammad\\python37\\lib\\site-packages (from prompt-toolkit!=3.0.0,!=3.0.1,<3.1.0,>=2.0.0->IPython>=4.0.0->neo4jupyter) (0.2.5)\n",
      "Requirement already satisfied: six>=1.9.0 in c:\\users\\mohammad\\python37\\lib\\site-packages (from prompt-toolkit!=3.0.0,!=3.0.1,<3.1.0,>=2.0.0->IPython>=4.0.0->neo4jupyter) (1.15.0)\n",
      "Requirement already satisfied: chardet<4,>=3.0.2 in c:\\users\\mohammad\\python37\\lib\\site-packages (from requests>=2.1.0->neo4jrestclient>=2.1.0->ipython-cypher>=0.2.4->neo4jupyter) (3.0.4)\n",
      "Requirement already satisfied: idna<3,>=2.5 in c:\\users\\mohammad\\python37\\lib\\site-packages (from requests>=2.1.0->neo4jrestclient>=2.1.0->ipython-cypher>=0.2.4->neo4jupyter) (2.10)\n",
      "Requirement already satisfied: urllib3!=1.25.0,!=1.25.1,<1.26,>=1.21.1 in c:\\users\\mohammad\\python37\\lib\\site-packages (from requests>=2.1.0->neo4jrestclient>=2.1.0->ipython-cypher>=0.2.4->neo4jupyter) (1.25.10)\n",
      "Requirement already satisfied: certifi>=2017.4.17 in c:\\users\\mohammad\\python37\\lib\\site-packages (from requests>=2.1.0->neo4jrestclient>=2.1.0->ipython-cypher>=0.2.4->neo4jupyter) (2020.6.20)\n",
      "Requirement already satisfied: ipython-genutils in c:\\users\\mohammad\\python37\\lib\\site-packages (from traitlets>=4.2->IPython>=4.0.0->neo4jupyter) (0.2.0)\n",
      "Requirement already satisfied: importlib-metadata in c:\\users\\mohammad\\python37\\lib\\site-packages (from prettytable->ipython-cypher>=0.2.4->neo4jupyter) (2.1.1)\n",
      "Requirement already satisfied: zipp>=0.5 in c:\\users\\mohammad\\python37\\lib\\site-packages (from importlib-metadata->prettytable->ipython-cypher>=0.2.4->neo4jupyter) (3.1.0)\n",
      "Requirement already satisfied: pansi>=2020.7.3 in c:\\users\\mohammad\\python37\\lib\\site-packages (from py2neo->neo4jupyter) (2020.7.3)\n",
      "Requirement already satisfied: english in c:\\users\\mohammad\\python37\\lib\\site-packages (from py2neo->neo4jupyter) (2020.7.0)\n",
      "Requirement already satisfied: pytz in c:\\users\\mohammad\\python37\\lib\\site-packages (from py2neo->neo4jupyter) (2020.1)\n",
      "Requirement already satisfied: monotonic in c:\\users\\mohammad\\python37\\lib\\site-packages (from py2neo->neo4jupyter) (1.5)\n",
      "Requirement already satisfied: neotime~=1.7.4 in c:\\users\\mohammad\\python37\\lib\\site-packages (from py2neo->neo4jupyter) (1.7.4)\n",
      "Requirement already satisfied: packaging in c:\\users\\mohammad\\python37\\lib\\site-packages (from py2neo->neo4jupyter) (20.4)\n",
      "Requirement already satisfied: docker in c:\\users\\mohammad\\python37\\lib\\site-packages (from py2neo->neo4jupyter) (4.4.4)\n",
      "Requirement already satisfied: cryptography in c:\\users\\mohammad\\python37\\lib\\site-packages (from py2neo->neo4jupyter) (3.4.7)\n",
      "Requirement already satisfied: cffi>=1.12 in c:\\users\\mohammad\\python37\\lib\\site-packages (from cryptography->py2neo->neo4jupyter) (1.14.2)\n",
      "Requirement already satisfied: pycparser in c:\\users\\mohammad\\python37\\lib\\site-packages (from cffi>=1.12->cryptography->py2neo->neo4jupyter) (2.20)\n",
      "Requirement already satisfied: pywin32==227 in c:\\users\\mohammad\\python37\\lib\\site-packages (from docker->py2neo->neo4jupyter) (227)\n",
      "Requirement already satisfied: websocket-client>=0.32.0 in c:\\users\\mohammad\\python37\\lib\\site-packages (from docker->py2neo->neo4jupyter) (0.57.0)\n",
      "Requirement already satisfied: pyparsing>=2.0.2 in c:\\users\\mohammad\\python37\\lib\\site-packages (from packaging->py2neo->neo4jupyter) (2.4.7)\n"
     ]
    },
    {
     "name": "stderr",
     "output_type": "stream",
     "text": [
      "WARNING: You are using pip version 21.0.1; however, version 21.1 is available.\n",
      "You should consider upgrading via the 'c:\\users\\mohammad\\python37\\python.exe -m pip install --upgrade pip' command.\n"
     ]
    },
    {
     "name": "stdout",
     "output_type": "stream",
     "text": [
      "Requirement already satisfied: vis in c:\\users\\mohammad\\python37\\lib\\site-packages (0.0.5)\n",
      "Requirement already satisfied: numpy in c:\\users\\mohammad\\python37\\lib\\site-packages (from vis) (1.20.2)\n",
      "Requirement already satisfied: matplotlib in c:\\users\\mohammad\\python37\\lib\\site-packages (from vis) (3.3.3)\n",
      "Requirement already satisfied: cycler>=0.10 in c:\\users\\mohammad\\python37\\lib\\site-packages (from matplotlib->vis) (0.10.0)\n",
      "Requirement already satisfied: python-dateutil>=2.1 in c:\\users\\mohammad\\python37\\lib\\site-packages (from matplotlib->vis) (2.8.1)\n",
      "Requirement already satisfied: kiwisolver>=1.0.1 in c:\\users\\mohammad\\python37\\lib\\site-packages (from matplotlib->vis) (1.2.0)\n",
      "Requirement already satisfied: pillow>=6.2.0 in c:\\users\\mohammad\\python37\\lib\\site-packages (from matplotlib->vis) (7.2.0)\n",
      "Requirement already satisfied: pyparsing!=2.0.4,!=2.1.2,!=2.1.6,>=2.0.3 in c:\\users\\mohammad\\python37\\lib\\site-packages (from matplotlib->vis) (2.4.7)\n",
      "Requirement already satisfied: six in c:\\users\\mohammad\\python37\\lib\\site-packages (from cycler>=0.10->matplotlib->vis) (1.15.0)\n"
     ]
    },
    {
     "name": "stderr",
     "output_type": "stream",
     "text": [
      "WARNING: You are using pip version 21.0.1; however, version 21.1 is available.\n",
      "You should consider upgrading via the 'c:\\users\\mohammad\\python37\\python.exe -m pip install --upgrade pip' command.\n"
     ]
    },
    {
     "data": {
      "application/javascript": [
       "var link = document.createElement(\"link\");\n",
       "\tlink.ref = \"stylesheet\";\n",
       "\tlink.type = \"text/css\";\n",
       "\tlink.href = \"https://cdnjs.cloudflare.com/ajax/libs/vis/4.8.2/vis.css\";\n",
       "\tdocument.head.appendChild(link);\n",
       "require.config({     paths: {         vis: '//cdnjs.cloudflare.com/ajax/libs/vis/4.8.2/vis.min'     } }); require(['vis'], function(vis) {  window.vis = vis; }); "
      ],
      "text/plain": [
       "<IPython.core.display.Javascript object>"
      ]
     },
     "metadata": {},
     "output_type": "display_data"
    }
   ],
   "source": [
    "!pip install neo4jupyter\n",
    "!pip install vis\n",
    "import neo4jupyter\n",
    "neo4jupyter.init_notebook_mode()"
   ]
  },
  {
   "cell_type": "code",
   "execution_count": 4,
   "metadata": {},
   "outputs": [
    {
     "data": {
      "text/html": [
       "<div>\n",
       "<style scoped>\n",
       "    .dataframe tbody tr th:only-of-type {\n",
       "        vertical-align: middle;\n",
       "    }\n",
       "\n",
       "    .dataframe tbody tr th {\n",
       "        vertical-align: top;\n",
       "    }\n",
       "\n",
       "    .dataframe thead th {\n",
       "        text-align: right;\n",
       "    }\n",
       "</style>\n",
       "<table border=\"1\" class=\"dataframe\">\n",
       "  <thead>\n",
       "    <tr style=\"text-align: right;\">\n",
       "      <th></th>\n",
       "      <th>node1</th>\n",
       "      <th>edge</th>\n",
       "      <th>node2</th>\n",
       "    </tr>\n",
       "  </thead>\n",
       "  <tbody>\n",
       "    <tr>\n",
       "      <th>0</th>\n",
       "      <td>John</td>\n",
       "      <td>Works</td>\n",
       "      <td>Apple</td>\n",
       "    </tr>\n",
       "    <tr>\n",
       "      <th>1</th>\n",
       "      <td>John</td>\n",
       "      <td>knows</td>\n",
       "      <td>python</td>\n",
       "    </tr>\n",
       "    <tr>\n",
       "      <th>2</th>\n",
       "      <td>John</td>\n",
       "      <td>knows</td>\n",
       "      <td>SQL</td>\n",
       "    </tr>\n",
       "    <tr>\n",
       "      <th>3</th>\n",
       "      <td>Mary</td>\n",
       "      <td>Works</td>\n",
       "      <td>IBM</td>\n",
       "    </tr>\n",
       "    <tr>\n",
       "      <th>4</th>\n",
       "      <td>Mary</td>\n",
       "      <td>knows</td>\n",
       "      <td>python</td>\n",
       "    </tr>\n",
       "    <tr>\n",
       "      <th>5</th>\n",
       "      <td>Mary</td>\n",
       "      <td>knows</td>\n",
       "      <td>R</td>\n",
       "    </tr>\n",
       "    <tr>\n",
       "      <th>6</th>\n",
       "      <td>Sarah</td>\n",
       "      <td>knows</td>\n",
       "      <td>python</td>\n",
       "    </tr>\n",
       "    <tr>\n",
       "      <th>7</th>\n",
       "      <td>IBM</td>\n",
       "      <td>requires</td>\n",
       "      <td>R</td>\n",
       "    </tr>\n",
       "    <tr>\n",
       "      <th>8</th>\n",
       "      <td>IBM</td>\n",
       "      <td>requires</td>\n",
       "      <td>python</td>\n",
       "    </tr>\n",
       "    <tr>\n",
       "      <th>9</th>\n",
       "      <td>Apple</td>\n",
       "      <td>requires</td>\n",
       "      <td>SQL</td>\n",
       "    </tr>\n",
       "    <tr>\n",
       "      <th>10</th>\n",
       "      <td>Apple</td>\n",
       "      <td>requires</td>\n",
       "      <td>R</td>\n",
       "    </tr>\n",
       "  </tbody>\n",
       "</table>\n",
       "</div>"
      ],
      "text/plain": [
       "    node1      edge   node2\n",
       "0    John     Works   Apple\n",
       "1    John     knows  python\n",
       "2    John     knows     SQL\n",
       "3    Mary     Works     IBM\n",
       "4    Mary     knows  python\n",
       "5    Mary     knows       R\n",
       "6   Sarah     knows  python\n",
       "7     IBM  requires       R\n",
       "8     IBM  requires  python\n",
       "9   Apple  requires     SQL\n",
       "10  Apple  requires       R"
      ]
     },
     "execution_count": 4,
     "metadata": {},
     "output_type": "execute_result"
    }
   ],
   "source": [
    "data = [\n",
    "    [\"John\", \"Works\",\"Apple\"],\n",
    "    [\"John\", \"knows\",\"python\"],\n",
    "    [\"John\", \"knows\",\"SQL\"],\n",
    "    [\"Mary\", \"Works\",\"IBM\"],\n",
    "    [\"Mary\", \"knows\",\"python\"],\n",
    "    [\"Mary\", \"knows\",\"R\"],\n",
    "    [\"Sarah\", \"knows\",\"python\"],\n",
    "    [\"IBM\", \"requires\",\"R\"],\n",
    "    [\"IBM\", \"requires\",\"python\"],\n",
    "    [\"Apple\", \"requires\",\"SQL\"],\n",
    "    [\"Apple\", \"requires\",\"R\"],\n",
    "]\n",
    "\n",
    "\n",
    "data = pd.DataFrame(data, columns = ['node1',\"edge\",\"node2\"])\n",
    "data"
   ]
  },
  {
   "cell_type": "code",
   "execution_count": 5,
   "metadata": {},
   "outputs": [
    {
     "data": {
      "text/plain": [
       "(No data)"
      ]
     },
     "execution_count": 5,
     "metadata": {},
     "output_type": "execute_result"
    }
   ],
   "source": [
    "graph = Graph(\"bolt://localhost:7687\", password=\"comemit\", user = 'neo4j')\n",
    "#graph = Graph(\"http://localhost:7474\", password=\"comemit\", user = 'neo4j')\n",
    "\n",
    "graph.run(\"MATCH (n) DETACH DELETE n\")"
   ]
  },
  {
   "cell_type": "code",
   "execution_count": 6,
   "metadata": {},
   "outputs": [
    {
     "data": {
      "text/plain": [
       " name         | versions  | edition    \n",
       "--------------|-----------|------------\n",
       " Neo4j Kernel | ['4.2.1'] | enterprise "
      ]
     },
     "execution_count": 6,
     "metadata": {},
     "output_type": "execute_result"
    }
   ],
   "source": [
    "graph.call.dbms.components()"
   ]
  },
  {
   "cell_type": "code",
   "execution_count": 7,
   "metadata": {},
   "outputs": [],
   "source": [
    "def create_db(node1, node2, edge):\n",
    "  \n",
    "    if edge == 'Works':\n",
    "        \n",
    "        a = Node(\"Person\", name=node1)\n",
    "        a.__primarykey__ = \"name\"\n",
    "        a.__primarylabel__ = \"Person\"\n",
    "        graph.merge(a)\n",
    "        \n",
    "        b = Node(\"Company\", name=node2)\n",
    "        b.__primarykey__ = \"name\"\n",
    "        b.__primarylabel__ = \"Company\"\n",
    "        graph.merge(b)\n",
    "        \n",
    "        graph.merge(Relationship(a, \"WORKS\", b))\n",
    "        \n",
    "    if edge == 'knows': \n",
    "        \n",
    "        a = Node(\"Person\", name=node1)\n",
    "        a.__primarykey__ = \"name\"\n",
    "        a.__primarylabel__ = \"Person\"\n",
    "        graph.merge(a)\n",
    "        \n",
    "        b = Node(\"Skill\", name=node2)\n",
    "        b.__primarykey__ = \"name\"\n",
    "        b.__primarylabel__ = \"Skill\"\n",
    "        graph.merge(b)\n",
    "        \n",
    "        graph.merge(Relationship(a, \"KNOWS\", b))\n",
    "        \n",
    "    if edge == 'requires':\n",
    "        \n",
    "        a = Node(\"Company\", name=node1)\n",
    "        a.__primarykey__ = \"name\"\n",
    "        a.__primarylabel__ = \"Company\"\n",
    "        graph.merge(a)\n",
    "        \n",
    "        b = Node(\"Skill\", name=node2)\n",
    "        b.__primarykey__ = \"name\"\n",
    "        b.__primarylabel__ = \"Skill\"\n",
    "        graph.merge(b)\n",
    "        \n",
    "        graph.merge(Relationship(a, \"REQUIRES\", b))\n",
    "        \n",
    "        \n",
    "        \n",
    "list(map(create_db, data['node1'], data['node2'],data['edge']));\n",
    "\n",
    "        "
   ]
  },
  {
   "cell_type": "code",
   "execution_count": 9,
   "metadata": {},
   "outputs": [
    {
     "data": {
      "text/html": [
       "<div id=\"a61fe07f-4d8a-4853-9806-fbc07478f0c4\" style=\"height: 400px;\"></div>\n",
       "\n",
       "<script type=\"text/javascript\">\n",
       "\n",
       "    var nodes = [{\"id\": 16, \"label\": \"R\", \"group\": \"Skill\", \"title\": \"Node('Skill', name='R')\"}, {\"id\": 17, \"label\": \"Sarah\", \"group\": \"Person\", \"title\": \"Node('Person', name='Sarah')\"}, {\"id\": 10, \"label\": \"python\", \"group\": \"Skill\", \"title\": \"Node('Skill', name='python')\"}, {\"id\": 13, \"label\": \"IBM\", \"group\": \"Company\", \"title\": \"Node('Company', name='IBM')\"}, {\"id\": 14, \"label\": \"John\", \"group\": \"Person\", \"title\": \"Node('Person', name='John')\"}, {\"id\": 11, \"label\": \"SQL\", \"group\": \"Skill\", \"title\": \"Node('Skill', name='SQL')\"}, {\"id\": 15, \"label\": \"Apple\", \"group\": \"Company\", \"title\": \"Node('Company', name='Apple')\"}, {\"id\": 12, \"label\": \"Mary\", \"group\": \"Person\", \"title\": \"Node('Person', name='Mary')\"}];\n",
       "    var edges = [{\"from\": 17, \"to\": 10, \"label\": \"KNOWS\"}, {\"from\": 13, \"to\": 10, \"label\": \"REQUIRES\"}, {\"from\": 13, \"to\": 16, \"label\": \"REQUIRES\"}, {\"from\": 14, \"to\": 11, \"label\": \"KNOWS\"}, {\"from\": 14, \"to\": 10, \"label\": \"KNOWS\"}, {\"from\": 14, \"to\": 15, \"label\": \"WORKS\"}, {\"from\": 12, \"to\": 16, \"label\": \"KNOWS\"}, {\"from\": 12, \"to\": 10, \"label\": \"KNOWS\"}, {\"from\": 12, \"to\": 13, \"label\": \"WORKS\"}, {\"from\": 15, \"to\": 16, \"label\": \"REQUIRES\"}, {\"from\": 15, \"to\": 11, \"label\": \"REQUIRES\"}];\n",
       "\n",
       "    var container = document.getElementById(\"a61fe07f-4d8a-4853-9806-fbc07478f0c4\");\n",
       "\n",
       "    var data = {\n",
       "        nodes: nodes,\n",
       "        edges: edges\n",
       "    };\n",
       "\n",
       "    var options = {\n",
       "    nodes: {\n",
       "        shape: 'dot',\n",
       "        size: 25,\n",
       "        font: {\n",
       "            size: 14\n",
       "        }\n",
       "    },\n",
       "    edges: {\n",
       "        font: {\n",
       "            size: 14,\n",
       "            align: 'middle'\n",
       "        },\n",
       "        color: 'gray',\n",
       "        arrows: {\n",
       "            to: {\n",
       "                enabled: true,\n",
       "                scaleFactor: 0.5\n",
       "            }\n",
       "        },\n",
       "        smooth: {\n",
       "            enabled: false\n",
       "        }\n",
       "    },\n",
       "    physics: {\n",
       "        enabled: true\n",
       "        }\n",
       "    };\n",
       "\n",
       "    var network = new vis.Network(container, data, options);\n",
       "\n",
       "</script>\n"
      ],
      "text/plain": [
       "<IPython.core.display.HTML object>"
      ]
     },
     "execution_count": 9,
     "metadata": {},
     "output_type": "execute_result"
    }
   ],
   "source": [
    "options = {\"Person\": \"name\", \"Skill\": \"name\",\"Company\":\"name\"}\n",
    "neo4jupyter.draw(graph, options = options, physics=True )"
   ]
  },
  {
   "cell_type": "markdown",
   "metadata": {},
   "source": [
    "Explore the graph"
   ]
  },
  {
   "cell_type": "code",
   "execution_count": 28,
   "metadata": {},
   "outputs": [
    {
     "data": {
      "text/plain": [
       " count \n",
       "-------\n",
       "     3 "
      ]
     },
     "execution_count": 28,
     "metadata": {},
     "output_type": "execute_result"
    }
   ],
   "source": [
    "graph.run('''MATCH (n:Person)\n",
    "    RETURN count(n) as count\n",
    "    ''')"
   ]
  },
  {
   "cell_type": "code",
   "execution_count": 10,
   "metadata": {},
   "outputs": [
    {
     "data": {
      "text/plain": [
       "[Node('Person', name='John')]"
      ]
     },
     "execution_count": 10,
     "metadata": {},
     "output_type": "execute_result"
    }
   ],
   "source": [
    "nodes = NodeMatcher(graph)\n",
    "nodes.match(\"Person\").\\\n",
    "where(name=STARTS_WITH(\"J\")).\\\n",
    "all()"
   ]
  },
  {
   "cell_type": "code",
   "execution_count": 11,
   "metadata": {},
   "outputs": [
    {
     "data": {
      "text/plain": [
       "[REQUIRES(Node('Company', name='IBM'), Node('Skill', name='python')),\n",
       " REQUIRES(Node('Company', name='IBM'), Node('Skill', name='R')),\n",
       " REQUIRES(Node('Company', name='Apple'), Node('Skill', name='R')),\n",
       " REQUIRES(Node('Company', name='Apple'), Node('Skill', name='SQL'))]"
      ]
     },
     "execution_count": 11,
     "metadata": {},
     "output_type": "execute_result"
    }
   ],
   "source": [
    "relationships=RelationshipMatcher (graph)\n",
    "\n",
    "ibm_node = graph.nodes.match(\"Company\", name=\"Keanu IBM\")\n",
    "\n",
    "relationships.match((None, None),\"REQUIRES\").all()        #(None means any node);"
   ]
  },
  {
   "cell_type": "markdown",
   "metadata": {},
   "source": [
    "Directly run cypher queries"
   ]
  },
  {
   "cell_type": "code",
   "execution_count": 31,
   "metadata": {},
   "outputs": [
    {
     "data": {
      "text/html": [
       "<div>\n",
       "<style scoped>\n",
       "    .dataframe tbody tr th:only-of-type {\n",
       "        vertical-align: middle;\n",
       "    }\n",
       "\n",
       "    .dataframe tbody tr th {\n",
       "        vertical-align: top;\n",
       "    }\n",
       "\n",
       "    .dataframe thead th {\n",
       "        text-align: right;\n",
       "    }\n",
       "</style>\n",
       "<table border=\"1\" class=\"dataframe\">\n",
       "  <thead>\n",
       "    <tr style=\"text-align: right;\">\n",
       "      <th></th>\n",
       "      <th>a.name</th>\n",
       "      <th>b.name</th>\n",
       "      <th>c.name</th>\n",
       "    </tr>\n",
       "  </thead>\n",
       "  <tbody>\n",
       "    <tr>\n",
       "      <th>0</th>\n",
       "      <td>Mary</td>\n",
       "      <td>python</td>\n",
       "      <td>IBM</td>\n",
       "    </tr>\n",
       "    <tr>\n",
       "      <th>1</th>\n",
       "      <td>John</td>\n",
       "      <td>python</td>\n",
       "      <td>Apple</td>\n",
       "    </tr>\n",
       "  </tbody>\n",
       "</table>\n",
       "</div>"
      ],
      "text/plain": [
       "  a.name  b.name c.name\n",
       "0   Mary  python    IBM\n",
       "1   John  python  Apple"
      ]
     },
     "execution_count": 31,
     "metadata": {},
     "output_type": "execute_result"
    }
   ],
   "source": [
    "df=graph.run('''\n",
    "          MATCH (b:Skill {name: \"python\"})<-[:KNOWS]-(a:Person)-[:WORKS]->(c:Company)\n",
    "          RETURN a.name, b.name, c.name\n",
    "          ORDER BY  a.name DESC\n",
    "          ''').to_data_frame()\n",
    "\n",
    "df"
   ]
  },
  {
   "cell_type": "markdown",
   "metadata": {},
   "source": [
    "Extract a subgraph"
   ]
  },
  {
   "cell_type": "code",
   "execution_count": 24,
   "metadata": {},
   "outputs": [
    {
     "data": {
      "text/plain": [
       "WORKS(Node('Person', name='Mary'), Node('Company', name='IBM'))"
      ]
     },
     "execution_count": 24,
     "metadata": {},
     "output_type": "execute_result"
    }
   ],
   "source": [
    "r=graph.run('''\n",
    "          MATCH (a:Person)-[r:WORKS]->(c:Company {name:'IBM'})\n",
    "          RETURN r\n",
    "          ''').to_subgraph()\n",
    "r"
   ]
  },
  {
   "cell_type": "code",
   "execution_count": 32,
   "metadata": {},
   "outputs": [
    {
     "data": {
      "text/html": [
       "<div id=\"e9733aca-65e2-4be6-a731-0a616382b078\" style=\"height: 400px;\"></div>\n",
       "\n",
       "<script type=\"text/javascript\">\n",
       "\n",
       "    var nodes = [{\"id\": 1849851149096, \"label\": \"Mary\", \"group\": \"Person\", \"title\": \"Node('Person', name='Mary')\"}, {\"id\": 1849851148904, \"label\": \"IBM\", \"group\": \"Company\", \"title\": \"Node('Company', name='IBM')\"}];\n",
       "    var edges = [{\"from\": 1849851149096, \"to\": 1849851148904, \"label\": \"WORKS\"}];\n",
       "\n",
       "    var container = document.getElementById(\"e9733aca-65e2-4be6-a731-0a616382b078\");\n",
       "\n",
       "    var data = {\n",
       "        nodes: nodes,\n",
       "        edges: edges\n",
       "    };\n",
       "\n",
       "    var options = {\n",
       "    nodes: {\n",
       "        shape: 'dot',\n",
       "        size: 25,\n",
       "        font: {\n",
       "            size: 14\n",
       "        }\n",
       "    },\n",
       "    edges: {\n",
       "        font: {\n",
       "            size: 14,\n",
       "            align: 'middle'\n",
       "        },\n",
       "        color: 'gray',\n",
       "        arrows: {\n",
       "            to: {\n",
       "                enabled: true,\n",
       "                scaleFactor: 0.5\n",
       "            }\n",
       "        },\n",
       "        smooth: {\n",
       "            enabled: false\n",
       "        }\n",
       "    },\n",
       "    physics: {\n",
       "        enabled: true\n",
       "        }\n",
       "    };\n",
       "\n",
       "    var network = new vis.Network(container, data, options);\n",
       "\n",
       "</script>\n"
      ],
      "text/plain": [
       "<IPython.core.display.HTML object>"
      ]
     },
     "execution_count": 32,
     "metadata": {},
     "output_type": "execute_result"
    }
   ],
   "source": [
    "options = {\"Person\": \"name\", \"Skill\": \"name\",\"Company\":\"name\"}\n",
    "neo4jupyter.draw_subgraph(r, options = options, physics=True )"
   ]
  },
  {
   "cell_type": "code",
   "execution_count": null,
   "metadata": {},
   "outputs": [],
   "source": []
  }
 ],
 "metadata": {
  "kernelspec": {
   "display_name": "Python 3.7.9 64-bit",
   "language": "python",
   "name": "python37964bitf6cdd9434b7b4b12a1bb89f9fe6074a9"
  },
  "language_info": {
   "codemirror_mode": {
    "name": "ipython",
    "version": 3
   },
   "file_extension": ".py",
   "mimetype": "text/x-python",
   "name": "python",
   "nbconvert_exporter": "python",
   "pygments_lexer": "ipython3",
   "version": "3.7.9"
  }
 },
 "nbformat": 4,
 "nbformat_minor": 4
}
